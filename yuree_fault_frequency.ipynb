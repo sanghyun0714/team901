{
 "cells": [
  {
   "cell_type": "code",
   "execution_count": 1,
   "metadata": {},
   "outputs": [],
   "source": [
    "import os\n",
    "import numpy as np\n",
    "import pandas as pd\n",
    "import matplotlib.pyplot as plt"
   ]
  },
  {
   "cell_type": "code",
   "execution_count": 8,
   "metadata": {},
   "outputs": [
    {
     "name": "stdout",
     "output_type": "stream",
     "text": [
      "          0         1         2         3         4         5         6  \\\n",
      "0 -0.202268 -0.353959 -0.119095  0.247844  0.120783 -0.263038 -0.537206   \n",
      "1  0.809660  0.977984 -0.025524 -1.094791 -1.556198 -0.060669  1.057084   \n",
      "2 -0.283242 -0.188273 -0.175738 -0.118942 -0.096620  0.050365 -0.066805   \n",
      "3  0.144290  0.030802  0.245908  0.400738  0.250939  0.376150 -0.265817   \n",
      "4  0.147031  0.113169  0.218939 -0.442279 -0.780985 -0.673755 -0.355651   \n",
      "\n",
      "          7         8         9  ...     25591     25592     25593     25594  \\\n",
      "0 -0.576838 -0.453532 -0.279206  ...  0.071124  0.173103  0.548901  0.481414   \n",
      "1  0.878002  0.246451 -0.800890  ... -0.246382  0.358700  0.048618 -0.172239   \n",
      "2 -0.234286  0.166423  0.164054  ... -0.197872  0.999439  0.847681  0.051769   \n",
      "3  0.010329  0.693247 -0.277882  ... -0.855152 -1.051428 -1.167517 -1.048143   \n",
      "4 -0.073637 -0.030152  0.159664  ... -0.257708 -0.140300  0.295603 -0.060675   \n",
      "\n",
      "      25595     25596     25597     25598     25599  fault_type  \n",
      "0  0.422957  0.223891  0.001842 -0.218857  0.000951           1  \n",
      "1  0.098558  1.466061  1.252963  0.190932 -0.384616           1  \n",
      "2  0.890592  1.043328  0.884492  0.792582  0.220288           1  \n",
      "3  0.088135 -0.213551 -0.387816 -0.188670  0.041774           1  \n",
      "4 -0.335117 -0.440216 -0.322704  0.446788  0.769093           1  \n",
      "\n",
      "[5 rows x 25601 columns]\n"
     ]
    }
   ],
   "source": [
    "folder_path = r\"C:\\Users\\medici\\901\"\n",
    "file_name = \"learning1_data.csv\"\n",
    "file_path = os.path.join(folder_path, file_name)\n",
    "\n",
    "data1 = pd.read_csv(file_path)\n",
    "\n",
    "print(data1.head())"
   ]
  },
  {
   "cell_type": "code",
   "execution_count": 9,
   "metadata": {},
   "outputs": [],
   "source": [
    "data1=data1.drop('fault_type', axis=1)"
   ]
  },
  {
   "cell_type": "code",
   "execution_count": 13,
   "metadata": {},
   "outputs": [],
   "source": [
    "data1=data1.T"
   ]
  },
  {
   "cell_type": "code",
   "execution_count": 14,
   "metadata": {},
   "outputs": [
    {
     "name": "stdout",
     "output_type": "stream",
     "text": [
      "            FTF         BSF        BPFO        BPFI     Hz   RPM  fault_type\n",
      "0     18.844094   82.609912  100.434364   96.914317  25600  1800           1\n",
      "1    350.294557  210.462405  497.872271  300.934468  25600  1800           1\n",
      "2    358.137388  338.587584  515.943766  287.271205  25600  1800           1\n",
      "3    252.999356   36.274599  253.980939   69.715105  25600  1800           1\n",
      "4     20.259800   50.748402  111.122900   73.374359  25600  1800           1\n",
      "..          ...         ...         ...         ...    ...   ...         ...\n",
      "475    2.756651   47.755409   69.249279   96.717899  25600  1800           0\n",
      "476    5.269340   30.530286   26.627137   60.648306  25600  1800           0\n",
      "477    5.533554   30.137911   66.868086   40.495423  25600  1800           0\n",
      "478    0.767843   45.486457   32.623303   57.729831  25600  1800           0\n",
      "479    3.064477   35.825985   52.954381   69.605904  25600  1800           0\n",
      "\n",
      "[480 rows x 7 columns]\n"
     ]
    }
   ],
   "source": [
    "sampling_rate = 25600\n",
    "num_samples = sampling_rate * 1  # 1초 신호\n",
    "\n",
    "# FFT 변환\n",
    "fft_data = np.fft.fft(data1, axis=0)\n",
    "freqs = np.fft.fftfreq(num_samples, 1 / sampling_rate)\n",
    "\n",
    "# 관심 주파수 설정\n",
    "default_frequencies = [11.69, 64.69, 140.29, 219.71]  # 구한 결함 주파수들\n",
    "\n",
    "# 주파수에서의 크기 추출\n",
    "magnitude_data = {}\n",
    "for freq in default_frequencies:\n",
    "    idx = np.argmin(np.abs(freqs - freq))\n",
    "    magnitude_data[f\"freq_{freq}Hz\"] = np.abs(fft_data[idx, :])\n",
    "\n",
    "magnitude_data1 = pd.DataFrame(magnitude_data)\n",
    "magnitude_data1.columns = ['FTF', 'BSF', 'BPFO', 'BPFI']\n",
    "\n",
    "magnitude_data1['Hz'] = 25600\n",
    "magnitude_data1['RPM'] = 1800 \n",
    "fault_type_values = [1]*120 + [2]*120 + [3]*120 + [0]*120\n",
    "magnitude_data1['fault_type'] = fault_type_values[:len(magnitude_data1)]\n",
    "\n",
    "# 결과 출력\n",
    "print(magnitude_data1)\n",
    "\n"
   ]
  },
  {
   "cell_type": "code",
   "execution_count": 7,
   "metadata": {},
   "outputs": [],
   "source": []
  },
  {
   "cell_type": "code",
   "execution_count": null,
   "metadata": {},
   "outputs": [],
   "source": []
  }
 ],
 "metadata": {
  "kernelspec": {
   "display_name": "ml",
   "language": "python",
   "name": "python3"
  },
  "language_info": {
   "codemirror_mode": {
    "name": "ipython",
    "version": 3
   },
   "file_extension": ".py",
   "mimetype": "text/x-python",
   "name": "python",
   "nbconvert_exporter": "python",
   "pygments_lexer": "ipython3",
   "version": "3.12.5"
  }
 },
 "nbformat": 4,
 "nbformat_minor": 2
}
